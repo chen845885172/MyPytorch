{
 "cells": [
  {
   "cell_type": "code",
   "execution_count": 2,
   "id": "07f97dc6",
   "metadata": {},
   "outputs": [
    {
     "name": "stdout",
     "output_type": "stream",
     "text": [
      "tensor([[9.8830e+17, 3.5301e-12, 1.7743e+28],\n",
      "        [6.8239e+16, 2.7685e+20, 1.8807e+31],\n",
      "        [6.9983e+28, 3.0303e+24, 1.0305e+21],\n",
      "        [7.1833e+22, 1.2102e+25, 1.2415e+28],\n",
      "        [1.0804e+27, 4.5452e+30, 1.8910e+23]])\n"
     ]
    }
   ],
   "source": [
    "import torch\n",
    "x=torch.empty(5,3)\n",
    "print(x)\n"
   ]
  },
  {
   "cell_type": "markdown",
   "id": "e73e8d12",
   "metadata": {},
   "source": [
    "Part1:basic autograd (1)"
   ]
  },
  {
   "cell_type": "code",
   "execution_count": 3,
   "id": "cd5c3dba",
   "metadata": {},
   "outputs": [
    {
     "name": "stdout",
     "output_type": "stream",
     "text": [
      "tensor(5.)\n",
      "tensor(4.)\n",
      "tensor(1.)\n"
     ]
    }
   ],
   "source": [
    "import torchvision\n",
    "import torch.nn as nn\n",
    "import torchvision.transforms as transforms\n",
    "\n",
    "x=torch.tensor(4.,requires_grad=True)\n",
    "w=torch.tensor(5.,requires_grad=True)\n",
    "b=torch.tensor(6.,requires_grad=True)\n",
    "\n",
    "y=x*w+b\n",
    "\n",
    "y.backward()\n",
    "\n",
    "print(x.grad)\n",
    "print(w.grad)\n",
    "print(b.grad)"
   ]
  },
  {
   "cell_type": "code",
   "execution_count": 6,
   "id": "3ede64d1",
   "metadata": {},
   "outputs": [
    {
     "name": "stdout",
     "output_type": "stream",
     "text": [
      "w: Parameter containing:\n",
      "tensor([[-0.1795,  0.5468,  0.3508],\n",
      "        [-0.0516, -0.0451,  0.5574]], requires_grad=True)\n",
      "b: Parameter containing:\n",
      "tensor([-0.0710,  0.5512], requires_grad=True)\n",
      "loss: 1.8724663257598877\n",
      "dL/dw: tensor([[-0.2744,  0.5080,  0.4745],\n",
      "        [ 0.0007,  0.3392,  0.6306]])\n",
      "dL/db: tensor([0.4986, 0.9170])\n",
      "loss after one step optimization: 1.851020097732544\n"
     ]
    }
   ],
   "source": [
    "x=torch.randn(10,3)\n",
    "y=torch.randn(10,2)\n",
    "\n",
    "\n",
    "linear=nn.Linear(3,2)\n",
    "print('w:',linear.weight)\n",
    "print('b:',linear.bias)\n",
    "\n",
    "criterion=nn.MSELoss()\n",
    "optimizer=torch.optim.SGD(linear.parameters(),lr=0.01)\n",
    "\n",
    "pred=linear(x)\n",
    "\n",
    "loss=criterion(pred,y)\n",
    "print('loss:',loss.item())\n",
    "\n",
    "loss.backward()\n",
    "\n",
    "print('dL/dw:',linear.weight.grad)\n",
    "print('dL/db:',linear.bias.grad)\n",
    "\n",
    "optimizer.step()\n",
    "\n",
    "pred=linear(x)\n",
    "loss=criterion(pred,y)\n",
    "print('loss after one step optimization:',loss.item())"
   ]
  },
  {
   "cell_type": "code",
   "execution_count": null,
   "id": "3e521f44",
   "metadata": {},
   "outputs": [],
   "source": []
  },
  {
   "cell_type": "code",
   "execution_count": 3,
   "id": "e8e3a58d",
   "metadata": {},
   "outputs": [
    {
     "name": "stdout",
     "output_type": "stream",
     "text": [
      "tensor([[1., 1.],\n",
      "        [1., 1.]], requires_grad=True)\n",
      "None\n"
     ]
    }
   ],
   "source": [
    "x=torch.ones(2,2,requires_grad=True)\n",
    "print(x)\n",
    "print(x.grad_fn)"
   ]
  },
  {
   "cell_type": "code",
   "execution_count": 4,
   "id": "12943feb",
   "metadata": {},
   "outputs": [
    {
     "name": "stdout",
     "output_type": "stream",
     "text": [
      "tensor([[3., 3.],\n",
      "        [3., 3.]], grad_fn=<AddBackward0>)\n",
      "<AddBackward0 object at 0x7f17f8166e20>\n"
     ]
    }
   ],
   "source": [
    "y=x+2\n",
    "print(y)\n",
    "print(y.grad_fn)"
   ]
  },
  {
   "cell_type": "code",
   "execution_count": 5,
   "id": "f873a537",
   "metadata": {},
   "outputs": [
    {
     "name": "stdout",
     "output_type": "stream",
     "text": [
      "tensor([[27., 27.],\n",
      "        [27., 27.]], grad_fn=<MulBackward0>) tensor(27., grad_fn=<MeanBackward0>)\n"
     ]
    }
   ],
   "source": [
    "z=y*y*3\n",
    "out=z.mean()\n",
    "print(z,out)"
   ]
  },
  {
   "cell_type": "code",
   "execution_count": 7,
   "id": "ea4a9f45",
   "metadata": {},
   "outputs": [],
   "source": [
    "out.backward()"
   ]
  },
  {
   "cell_type": "code",
   "execution_count": 8,
   "id": "afe0e654",
   "metadata": {},
   "outputs": [
    {
     "name": "stdout",
     "output_type": "stream",
     "text": [
      "tensor([[4.5000, 4.5000],\n",
      "        [4.5000, 4.5000]])\n"
     ]
    }
   ],
   "source": [
    "print(x.grad)"
   ]
  },
  {
   "cell_type": "code",
   "execution_count": 15,
   "id": "bcf7306d",
   "metadata": {},
   "outputs": [
    {
     "name": "stdout",
     "output_type": "stream",
     "text": [
      "tensor([[2., 2.],\n",
      "        [2., 2.]])\n",
      "tensor([[1., 1.],\n",
      "        [1., 1.]])\n"
     ]
    }
   ],
   "source": [
    "#grad在反向传播过程中是累加的,因此一般在反向传播之前需要把梯度清零\n",
    "\n",
    "#1.没有清零\n",
    "out2=x.sum()     \n",
    "out2.backward()\n",
    "print(x.grad)\n",
    "\n",
    "#2.清零\n",
    "out3=x.sum()\n",
    "x.grad.data.zero_()\n",
    "out3.backward()\n",
    "print(x.grad)"
   ]
  }
 ],
 "metadata": {
  "kernelspec": {
   "display_name": "yu",
   "language": "python",
   "name": "yu"
  },
  "language_info": {
   "codemirror_mode": {
    "name": "ipython",
    "version": 3
   },
   "file_extension": ".py",
   "mimetype": "text/x-python",
   "name": "python",
   "nbconvert_exporter": "python",
   "pygments_lexer": "ipython3",
   "version": "3.9.5"
  }
 },
 "nbformat": 4,
 "nbformat_minor": 5
}
