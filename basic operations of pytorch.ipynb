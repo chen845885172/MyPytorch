{
 "cells": [
  {
   "cell_type": "code",
   "execution_count": 2,
   "id": "5f3994f1",
   "metadata": {},
   "outputs": [
    {
     "name": "stdout",
     "output_type": "stream",
     "text": [
      "tensor([[1., 1., 1.],\n",
      "        [1., 1., 1.],\n",
      "        [1., 1., 1.],\n",
      "        [1., 1., 1.],\n",
      "        [1., 1., 1.]], dtype=torch.float64)\n",
      "tensor([[ 0.0285, -0.6687, -1.7815],\n",
      "        [ 0.7368,  0.4818,  1.4209],\n",
      "        [-0.6471, -1.5157,  1.8429],\n",
      "        [-0.1791,  1.4666, -0.9544],\n",
      "        [-0.8886,  0.3517,  0.6063]])\n"
     ]
    }
   ],
   "source": [
    "import torch\n",
    "x=torch.tensor([5.5,3])\n",
    "x=x.new_ones(5,3,dtype=torch.float64)\n",
    "print(x)\n",
    "\n",
    "x=torch.randn_like(x,dtype=torch.float)\n",
    "print(x)"
   ]
  },
  {
   "cell_type": "code",
   "execution_count": 4,
   "id": "5263bf78",
   "metadata": {},
   "outputs": [
    {
     "name": "stdout",
     "output_type": "stream",
     "text": [
      "tensor([0.3504, 2.5184, 3.3610])\n",
      "tensor([0.3504, 2.5184, 3.3610])\n"
     ]
    }
   ],
   "source": [
    "#切片操作\n",
    "y=x[0,:]\n",
    "y+=1\n",
    "print(y)\n",
    "print(x[0,:])"
   ]
  },
  {
   "cell_type": "code",
   "execution_count": 5,
   "id": "513cd341",
   "metadata": {},
   "outputs": [
    {
     "name": "stdout",
     "output_type": "stream",
     "text": [
      "torch.Size([5, 3])\n",
      "torch.Size([15])\n",
      "torch.Size([3, 5])\n"
     ]
    }
   ],
   "source": [
    "#变形\n",
    "y=x.view(15)\n",
    "z=x.view(-1,5)\n",
    "print(x.size())\n",
    "print(y.size())\n",
    "print(z.size())"
   ]
  },
  {
   "cell_type": "code",
   "execution_count": 6,
   "id": "3c0b0594",
   "metadata": {},
   "outputs": [
    {
     "name": "stdout",
     "output_type": "stream",
     "text": [
      "tensor([[ 1.3504,  3.5184,  4.3610],\n",
      "        [ 1.5188, -0.3170,  1.3121],\n",
      "        [ 1.1224, -2.1150, -0.7608],\n",
      "        [ 0.8740, -0.0525,  0.2478],\n",
      "        [ 0.6540, -0.1729,  0.2842]])\n",
      "tensor([ 1.3504,  3.5184,  4.3610,  1.5188, -0.3170,  1.3121,  1.1224, -2.1150,\n",
      "        -0.7608,  0.8740, -0.0525,  0.2478,  0.6540, -0.1729,  0.2842])\n"
     ]
    }
   ],
   "source": [
    "x+=1\n",
    "print(x)\n",
    "print(y)\n",
    "#x变化 y也发生变化"
   ]
  },
  {
   "cell_type": "code",
   "execution_count": 7,
   "id": "30441241",
   "metadata": {},
   "outputs": [
    {
     "name": "stdout",
     "output_type": "stream",
     "text": [
      "tensor([[ 0.3504,  2.5184,  3.3610],\n",
      "        [ 0.5188, -1.3170,  0.3121],\n",
      "        [ 0.1224, -3.1150, -1.7608],\n",
      "        [-0.1260, -1.0525, -0.7522],\n",
      "        [-0.3460, -1.1729, -0.7158]])\n",
      "tensor([ 1.3504,  3.5184,  4.3610,  1.5188, -0.3170,  1.3121,  1.1224, -2.1150,\n",
      "        -0.7608,  0.8740, -0.0525,  0.2478,  0.6540, -0.1729,  0.2842])\n"
     ]
    }
   ],
   "source": [
    "#解决x变化 y变化的问题\n",
    "\n",
    "x_cp=x.clone().view(15)\n",
    "x-=1\n",
    "print(x)\n",
    "print(x_cp)"
   ]
  },
  {
   "cell_type": "code",
   "execution_count": 8,
   "id": "d42f8271",
   "metadata": {},
   "outputs": [
    {
     "name": "stdout",
     "output_type": "stream",
     "text": [
      "tensor([1.4938])\n",
      "1.4938164949417114\n"
     ]
    }
   ],
   "source": [
    "#将标量Tensor变为一个Python Number\n",
    "x=torch.randn(1)\n",
    "print(x)\n",
    "print(x.item())"
   ]
  },
  {
   "cell_type": "code",
   "execution_count": 10,
   "id": "6f72f8b8",
   "metadata": {},
   "outputs": [
    {
     "name": "stdout",
     "output_type": "stream",
     "text": [
      "tensor([[1., 2., 3.],\n",
      "        [4., 5., 6.],\n",
      "        [7., 8., 9.]])\n",
      "15.0\n"
     ]
    }
   ],
   "source": [
    "#矩阵的迹\n",
    "\n",
    "x=torch.arange(1.,10.).view(3,3)\n",
    "print(x)\n",
    "y=torch.trace(x)\n",
    "print(y.item())\n"
   ]
  },
  {
   "cell_type": "code",
   "execution_count": 12,
   "id": "6c7d49c9",
   "metadata": {},
   "outputs": [
    {
     "name": "stdout",
     "output_type": "stream",
     "text": [
      "x: tensor([ 0.6651, -0.4681, -0.7364])\n",
      "y: tensor([[ 0.6651,  0.0000,  0.0000],\n",
      "        [ 0.0000, -0.4681,  0.0000],\n",
      "        [ 0.0000,  0.0000, -0.7364]])\n",
      "z: tensor([[ 0.0000,  0.6651,  0.0000,  0.0000],\n",
      "        [ 0.0000,  0.0000, -0.4681,  0.0000],\n",
      "        [ 0.0000,  0.0000,  0.0000, -0.7364],\n",
      "        [ 0.0000,  0.0000,  0.0000,  0.0000]])\n"
     ]
    }
   ],
   "source": [
    "#指定对角元素\n",
    "\n",
    "x=torch.randn(3)\n",
    "print('x:',x)\n",
    "y=torch.diag(x)\n",
    "print('y:',y)\n",
    "z=torch.diag(x,1)  #指定偏移量\n",
    "print('z:',z)"
   ]
  },
  {
   "cell_type": "code",
   "execution_count": 13,
   "id": "8a46a98a",
   "metadata": {},
   "outputs": [
    {
     "name": "stdout",
     "output_type": "stream",
     "text": [
      "x: tensor([[ 0.4556, -0.3504,  1.1313],\n",
      "        [ 1.4284, -0.6833,  1.5558],\n",
      "        [ 0.6125,  0.2744, -0.2523]])\n",
      "y: tensor([ 0.4556, -0.6833, -0.2523])\n",
      "z: tensor([-0.3504,  1.5558])\n"
     ]
    }
   ],
   "source": [
    "#取得对角元素\n",
    "\n",
    "x=torch.randn(3,3)\n",
    "print('x:',x)\n",
    "y=torch.diag(x,0)\n",
    "print('y:',y)\n",
    "z=torch.diag(x,1)   #1 默认向右上角偏移\n",
    "print('z:',z)"
   ]
  },
  {
   "cell_type": "code",
   "execution_count": 15,
   "id": "bc729e63",
   "metadata": {},
   "outputs": [
    {
     "name": "stdout",
     "output_type": "stream",
     "text": [
      "y1: tensor([[ 0.3770,  1.2139, -0.9867],\n",
      "        [ 0.0000,  0.7685,  0.2979],\n",
      "        [ 0.0000,  0.0000,  1.8912]])\n",
      "z1: tensor([[ 0.0000,  1.2139, -0.9867],\n",
      "        [ 0.0000,  0.0000,  0.2979],\n",
      "        [ 0.0000,  0.0000,  0.0000]])\n",
      "a1: tensor([[ 0.3770,  1.2139, -0.9867],\n",
      "        [ 0.3624,  0.7685,  0.2979],\n",
      "        [ 0.0000, -1.2170,  1.8912]])\n",
      "y2: tensor([[ 0.3770,  0.0000,  0.0000],\n",
      "        [ 0.3624,  0.7685,  0.0000],\n",
      "        [ 0.0577, -1.2170,  1.8912]])\n"
     ]
    },
    {
     "ename": "NameError",
     "evalue": "name 'z2' is not defined",
     "output_type": "error",
     "traceback": [
      "\u001b[0;31m---------------------------------------------------------------------------\u001b[0m",
      "\u001b[0;31mNameError\u001b[0m                                 Traceback (most recent call last)",
      "\u001b[0;32m/tmp/ipykernel_2647/3752773676.py\u001b[0m in \u001b[0;36m<module>\u001b[0;34m\u001b[0m\n\u001b[1;32m     13\u001b[0m \u001b[0mprint\u001b[0m\u001b[0;34m(\u001b[0m\u001b[0;34m'y2:'\u001b[0m\u001b[0;34m,\u001b[0m\u001b[0my2\u001b[0m\u001b[0;34m)\u001b[0m\u001b[0;34m\u001b[0m\u001b[0;34m\u001b[0m\u001b[0m\n\u001b[1;32m     14\u001b[0m \u001b[0mz\u001b[0m\u001b[0;34m=\u001b[0m\u001b[0mtorch\u001b[0m\u001b[0;34m.\u001b[0m\u001b[0mtril\u001b[0m\u001b[0;34m(\u001b[0m\u001b[0mx\u001b[0m\u001b[0;34m,\u001b[0m\u001b[0;36m1\u001b[0m\u001b[0;34m)\u001b[0m\u001b[0;34m\u001b[0m\u001b[0;34m\u001b[0m\u001b[0m\n\u001b[0;32m---> 15\u001b[0;31m \u001b[0mprint\u001b[0m\u001b[0;34m(\u001b[0m\u001b[0;34m'z2:'\u001b[0m\u001b[0;34m,\u001b[0m\u001b[0mz2\u001b[0m\u001b[0;34m)\u001b[0m\u001b[0;34m\u001b[0m\u001b[0;34m\u001b[0m\u001b[0m\n\u001b[0m\u001b[1;32m     16\u001b[0m \u001b[0ma\u001b[0m\u001b[0;34m=\u001b[0m\u001b[0mtorch\u001b[0m\u001b[0;34m.\u001b[0m\u001b[0mtril\u001b[0m\u001b[0;34m(\u001b[0m\u001b[0mx\u001b[0m\u001b[0;34m,\u001b[0m\u001b[0;34m-\u001b[0m\u001b[0;36m1\u001b[0m\u001b[0;34m)\u001b[0m\u001b[0;34m\u001b[0m\u001b[0;34m\u001b[0m\u001b[0m\n\u001b[1;32m     17\u001b[0m \u001b[0mprint\u001b[0m\u001b[0;34m(\u001b[0m\u001b[0;34m'a2:'\u001b[0m\u001b[0;34m,\u001b[0m\u001b[0ma2\u001b[0m\u001b[0;34m)\u001b[0m\u001b[0;34m\u001b[0m\u001b[0;34m\u001b[0m\u001b[0m\n",
      "\u001b[0;31mNameError\u001b[0m: name 'z2' is not defined"
     ]
    }
   ],
   "source": [
    "#取得矩阵的上三角/下三角矩阵\n",
    "x=torch.randn(3,3)\n",
    "#1.上三角\n",
    "y1=torch.triu(x)\n",
    "print('y1:',y1)\n",
    "z1=torch.triu(x,1)\n",
    "print('z1:',z1)\n",
    "a1=torch.triu(x,-1)\n",
    "print('a1:',a1)\n",
    "\n",
    "#2.下三角\n",
    "y2=torch.tril(x)\n",
    "print('y2:',y2)\n",
    "z=torch.tril(x,1)\n",
    "print('z2:',z2)\n",
    "a=torch.tril(x,-1)\n",
    "print('a2:',a2)"
   ]
  },
  {
   "cell_type": "code",
   "execution_count": 19,
   "id": "87c5725b",
   "metadata": {},
   "outputs": [
    {
     "name": "stdout",
     "output_type": "stream",
     "text": [
      "tensor([[-1.8372, -0.7908],\n",
      "        [ 0.4884, -0.2368]])\n",
      "torch.Size([2, 3, 3])\n"
     ]
    }
   ],
   "source": [
    "#矩阵乘法\n",
    "#1.二维矩阵乘法\n",
    "mat1=torch.randn(2,3)\n",
    "mat2=torch.randn(3,2)\n",
    "result=torch.mm(mat1,mat2)\n",
    "print(result)\n",
    "#2.3D矩阵乘法（x*n*m 与 x*m*p 得到一个 x*n*p）\n",
    "\n",
    "mat1=torch.randn(2,3,1)\n",
    "mat2=torch.randn(2,1,3)\n",
    "result=torch.bmm(mat1,mat2)\n",
    "print(result.size())"
   ]
  },
  {
   "cell_type": "code",
   "execution_count": 22,
   "id": "a84e5d2b",
   "metadata": {},
   "outputs": [
    {
     "name": "stdout",
     "output_type": "stream",
     "text": [
      "tensor([[-0.0167,  0.0824, -0.0305],\n",
      "        [-0.7209,  0.2191,  0.3109],\n",
      "        [ 2.1024,  0.2111, -0.5297]])\n",
      "tensor([[-0.0167, -0.7209,  2.1024],\n",
      "        [ 0.0824,  0.2191,  0.2111],\n",
      "        [-0.0305,  0.3109, -0.5297]])\n",
      "tensor([[ -4.1205,   0.8441,   0.7324],\n",
      "        [  6.1616,   1.6528,   0.6157],\n",
      "        [-13.8994,   4.0093,   1.2644]])\n"
     ]
    }
   ],
   "source": [
    "#矩阵转置/逆矩阵\n",
    "x=torch.randn(3,3)\n",
    "result1=torch.t(x)\n",
    "result2=torch.inverse(x)\n",
    "\n",
    "print(x)\n",
    "print(result1)\n",
    "print(result2)"
   ]
  },
  {
   "cell_type": "code",
   "execution_count": 24,
   "id": "b4ed666d",
   "metadata": {},
   "outputs": [
    {
     "name": "stdout",
     "output_type": "stream",
     "text": [
      "tensor([[-0.6922,  0.4060,  0.5967],\n",
      "        [-0.2924,  0.5981, -0.7462],\n",
      "        [-0.6598, -0.6910, -0.2954]])\n",
      "tensor([1.8716, 1.0757, 0.1674])\n",
      "tensor([[-0.2488, -0.1193,  0.9612],\n",
      "        [ 0.8247,  0.4943,  0.2749],\n",
      "        [-0.5079,  0.8611, -0.0246]])\n"
     ]
    }
   ],
   "source": [
    "#奇异值分解\n",
    "x=torch.randn(3,3)\n",
    "u,s,v=torch.svd(x)\n",
    "print(u)\n",
    "print(s)\n",
    "print(v)\n"
   ]
  },
  {
   "cell_type": "code",
   "execution_count": 25,
   "id": "da0639a9",
   "metadata": {},
   "outputs": [],
   "source": [
    "if torch.cuda.is_available():\n",
    "    device=torch.device(\"cuda\")\n",
    "    y=torch.ones_like(x,device=device)\n",
    "    x=x.to(device)\n",
    "    z=x+y\n",
    "    print(z)"
   ]
  },
  {
   "cell_type": "code",
   "execution_count": 3,
   "id": "dff5e700",
   "metadata": {},
   "outputs": [
    {
     "name": "stdout",
     "output_type": "stream",
     "text": [
      "False\n"
     ]
    }
   ],
   "source": [
    "print(torch.cuda.is_available())"
   ]
  },
  {
   "cell_type": "code",
   "execution_count": null,
   "id": "bb90ba0e",
   "metadata": {},
   "outputs": [],
   "source": []
  }
 ],
 "metadata": {
  "kernelspec": {
   "display_name": "yu",
   "language": "python",
   "name": "yu"
  },
  "language_info": {
   "codemirror_mode": {
    "name": "ipython",
    "version": 3
   },
   "file_extension": ".py",
   "mimetype": "text/x-python",
   "name": "python",
   "nbconvert_exporter": "python",
   "pygments_lexer": "ipython3",
   "version": "3.9.5"
  }
 },
 "nbformat": 4,
 "nbformat_minor": 5
}
